{
 "cells": [
  {
   "cell_type": "markdown",
   "id": "170e22cd-a9a9-4536-b4d2-51455e3d702c",
   "metadata": {},
   "source": [
    "## try building a gpytorch model"
   ]
  },
  {
   "cell_type": "code",
   "execution_count": 1,
   "id": "64663acf-a54e-4fbe-8da9-3677813ae2a3",
   "metadata": {},
   "outputs": [],
   "source": [
    "import gpytorch\n",
    "import torch\n",
    "from torch.optim import SGD, Adam\n",
    "from torch.optim.lr_scheduler import MultiStepLR\n",
    "from torch import nn\n",
    "\n",
    "from src.models.base_cnn import BaseCNN\n",
    "from src.data.data_loader import get_splits, create_dataloaders\n",
    "\n",
    "import math\n",
    "\n",
    "import tqdm"
   ]
  },
  {
   "cell_type": "markdown",
   "id": "d42a0fc7-93d4-4ca5-8cc7-3ab34a49156a",
   "metadata": {},
   "source": [
    "Get some data"
   ]
  },
  {
   "cell_type": "code",
   "execution_count": 2,
   "id": "7267cc7f-e06d-496c-966c-041e6fe9f5cf",
   "metadata": {},
   "outputs": [
    {
     "name": "stdout",
     "output_type": "stream",
     "text": [
      "Train X dimensions: (238624, 101, 4) Test X dimensions: (26513, 101, 4)\n"
     ]
    }
   ],
   "source": [
    "X_train, y_train, X_test, y_test = get_splits()"
   ]
  },
  {
   "cell_type": "code",
   "execution_count": 31,
   "id": "a79dc3ff",
   "metadata": {},
   "outputs": [
    {
     "data": {
      "text/plain": [
       "True"
      ]
     },
     "execution_count": 31,
     "metadata": {},
     "output_type": "execute_result"
    }
   ],
   "source": [
    "test = torch.from_numpy(X_train)\n",
    "torch.equal(test.reshape(-1, 404).reshape(-1, 101, 4), test)"
   ]
  },
  {
   "cell_type": "code",
   "execution_count": 3,
   "id": "3cb5c2df-b9bb-4628-8ea6-bee348affaeb",
   "metadata": {},
   "outputs": [],
   "source": [
    "start_size = 1000\n",
    "\n",
    "device = torch.device('cuda')\n",
    "train_loader, test_loader, dim_size = create_dataloaders(X_train=X_train.reshape((-1,))[:start_size], y_train=y_train[:start_size], X_test=X_test, y_test=y_test, device=device, batch_size=1, test_batch_size=1)"
   ]
  },
  {
   "cell_type": "markdown",
   "id": "0e482a27-d459-438b-87d2-2a8f60104280",
   "metadata": {},
   "source": [
    "define a model"
   ]
  },
  {
   "cell_type": "code",
   "execution_count": 45,
   "id": "29e0f585-39d7-4673-9cb8-5574b43d9731",
   "metadata": {},
   "outputs": [],
   "source": [
    "class BaseCNN(nn.Module):\n",
    "    def __init__(self, seq_len: int = 101, \n",
    "                       dropout_prob: float = 0.15,\n",
    "                       MLP_out_dim: int = 50) -> None:\n",
    "        super().__init__()\n",
    "\n",
    "        # configs\n",
    "        self.dropout_prob = dropout_prob\n",
    "        self.seq_len = seq_len\n",
    "\n",
    "        # layers\n",
    "        self.conv1 = nn.Conv1d(in_channels=4, out_channels=self.seq_len, kernel_size=4)\n",
    "        self.pool1 = nn.MaxPool1d(kernel_size=3)\n",
    "        self.conv2 = nn.Conv1d(in_channels=self.seq_len, out_channels=self.seq_len//2, kernel_size=4)\n",
    "        self.pool2 = nn.MaxPool1d(kernel_size=3)\n",
    "        self.dense = nn.Linear(in_features=450, out_features=MLP_out_dim)\n",
    "        self.output = nn.Linear(in_features=MLP_out_dim, out_features=2)\n",
    "    \n",
    "    def forward(self, x: torch.Tensor) -> torch.Tensor:\n",
    "        x = x.reshape(-1, 101, 4)\n",
    "        x = x.transpose(1, 2)\n",
    "        x = self.conv1(x)\n",
    "        x = nn.functional.relu(x)\n",
    "        x = self.pool1(x)\n",
    "        \n",
    "        x = self.conv2(x)\n",
    "        x = nn.functional.relu(x)\n",
    "        x = self.pool2(x)\n",
    "        x = nn.functional.dropout(x, p=self.dropout_prob)        \n",
    "\n",
    "        x = x.reshape((x.size(0), -1))\n",
    "        x = self.dense(x)\n",
    "        x = nn.functional.relu(x)\n",
    "        x = nn.functional.dropout(x, p=self.dropout_prob)        \n",
    "\n",
    "        x = self.output(x)\n",
    "\n",
    "        return x"
   ]
  },
  {
   "cell_type": "code",
   "execution_count": 33,
   "id": "ebf91392-b8d2-437a-a8f8-b251b0843fff",
   "metadata": {},
   "outputs": [],
   "source": [
    "class GPRegressionModel(gpytorch.models.ExactGP):\n",
    "        def __init__(self, train_x, train_y, likelihood):\n",
    "            super(GPRegressionModel, self).__init__(train_x, train_y, likelihood)\n",
    "            self.mean_module = gpytorch.means.ConstantMean()\n",
    "            self.covar_module = gpytorch.kernels.GridInterpolationKernel(\n",
    "                gpytorch.kernels.ScaleKernel(gpytorch.kernels.RBFKernel(ard_num_dims=2)),\n",
    "                num_dims=2, grid_size=100\n",
    "            )\n",
    "            self.feature_extractor = BaseCNN()\n",
    "\n",
    "            # This module will scale the NN features so that they're nice values\n",
    "            self.scale_to_bounds = gpytorch.utils.grid.ScaleToBounds(-1., 1.)\n",
    "\n",
    "        def forward(self, x):\n",
    "            # We're first putting our data through a deep net (feature extractor)\n",
    "            projected_x = self.feature_extractor(x)\n",
    "            projected_x = self.scale_to_bounds(projected_x)  # Make the NN values \"nice\"\n",
    "\n",
    "            mean_x = self.mean_module(projected_x)\n",
    "            covar_x = self.covar_module(projected_x)\n",
    "            mvn = gpytorch.distributions.MultivariateNormal(mean_x, covar_x)\n",
    "\n",
    "            return mvn"
   ]
  },
  {
   "cell_type": "code",
   "execution_count": 34,
   "id": "8e9f105f",
   "metadata": {},
   "outputs": [],
   "source": [
    "likelihood = gpytorch.likelihoods.GaussianLikelihood()\n",
    "model = GPRegressionModel(torch.from_numpy(X_train[:start_size]).reshape(-1, 404).float().to(device), torch.from_numpy(y_train[:start_size]).float().to(device), likelihood)\n",
    "\n",
    "if torch.cuda.is_available():\n",
    "    model = model.cuda()\n",
    "    likelihood = likelihood.cuda()"
   ]
  },
  {
   "cell_type": "code",
   "execution_count": 46,
   "id": "af25eb1f",
   "metadata": {},
   "outputs": [],
   "source": [
    "training_iterations = 100\n",
    "\n",
    "# Find optimal model hyperparameters\n",
    "model.train()\n",
    "likelihood.train()\n",
    "\n",
    "# Use the adam optimizer\n",
    "optimizer = Adam([\n",
    "    {'params': model.feature_extractor.parameters()},\n",
    "    {'params': model.covar_module.parameters()},\n",
    "    {'params': model.mean_module.parameters()},\n",
    "    {'params': model.likelihood.parameters()},\n",
    "], lr=0.001)\n",
    "\n",
    "# \"Loss\" for GPs - the marginal log likelihood\n",
    "mll = gpytorch.mlls.ExactMarginalLogLikelihood(likelihood, model)\n",
    "\n",
    "def train():\n",
    "    iterator = tqdm.tqdm(range(training_iterations))\n",
    "    for i in iterator:\n",
    "        # Zero backprop gradients\n",
    "        optimizer.zero_grad()\n",
    "        # Get output from model\n",
    "        output = model(torch.from_numpy(X_train[:start_size]).reshape(-1, 404).float().to(device))\n",
    "        # Calc loss and backprop derivatives\n",
    "        loss = -mll(output, torch.from_numpy(y_train[:start_size]).float().to(device))\n",
    "        loss.backward()\n",
    "        iterator.set_postfix(loss=loss.item())\n",
    "        optimizer.step()"
   ]
  },
  {
   "cell_type": "code",
   "execution_count": 47,
   "id": "5116abbf",
   "metadata": {},
   "outputs": [
    {
     "name": "stderr",
     "output_type": "stream",
     "text": [
      "  2%|▏         | 2/100 [00:00<00:08, 11.42it/s, loss=0.846]"
     ]
    },
    {
     "name": "stdout",
     "output_type": "stream",
     "text": [
      "input shape: torch.Size([1000, 404])\n",
      "shape before densetorch.Size([1000, 450])\n",
      "input shape: torch.Size([1000, 404])\n",
      "shape before densetorch.Size([1000, 450])\n",
      "input shape: torch.Size([1000, 404])\n",
      "shape before densetorch.Size([1000, 450])\n"
     ]
    },
    {
     "name": "stderr",
     "output_type": "stream",
     "text": [
      "  4%|▍         | 4/100 [00:00<00:08, 11.89it/s, loss=0.84] "
     ]
    },
    {
     "name": "stdout",
     "output_type": "stream",
     "text": [
      "input shape: torch.Size([1000, 404])\n",
      "shape before densetorch.Size([1000, 450])\n",
      "input shape: torch.Size([1000, 404])\n",
      "shape before densetorch.Size([1000, 450])\n",
      "input shape: torch.Size([1000, 404])\n",
      "shape before densetorch.Size([1000, 450])\n"
     ]
    },
    {
     "name": "stderr",
     "output_type": "stream",
     "text": [
      "  8%|▊         | 8/100 [00:00<00:07, 12.60it/s, loss=0.845]"
     ]
    },
    {
     "name": "stdout",
     "output_type": "stream",
     "text": [
      "input shape: torch.Size([1000, 404])\n",
      "shape before densetorch.Size([1000, 450])\n",
      "input shape: torch.Size([1000, 404])\n",
      "shape before densetorch.Size([1000, 450])\n",
      "input shape: torch.Size([1000, 404])\n",
      "shape before densetorch.Size([1000, 450])\n"
     ]
    },
    {
     "name": "stderr",
     "output_type": "stream",
     "text": [
      " 10%|█         | 10/100 [00:00<00:07, 12.72it/s, loss=0.844]"
     ]
    },
    {
     "name": "stdout",
     "output_type": "stream",
     "text": [
      "input shape: torch.Size([1000, 404])\n",
      "shape before densetorch.Size([1000, 450])\n",
      "input shape: torch.Size([1000, 404])\n",
      "shape before densetorch.Size([1000, 450])\n",
      "input shape: torch.Size([1000, 404])\n",
      "shape before densetorch.Size([1000, 450])\n"
     ]
    },
    {
     "name": "stderr",
     "output_type": "stream",
     "text": [
      " 14%|█▍        | 14/100 [00:01<00:06, 12.94it/s, loss=0.844]"
     ]
    },
    {
     "name": "stdout",
     "output_type": "stream",
     "text": [
      "input shape: torch.Size([1000, 404])\n",
      "shape before densetorch.Size([1000, 450])\n",
      "input shape: torch.Size([1000, 404])\n",
      "shape before densetorch.Size([1000, 450])\n",
      "input shape: torch.Size([1000, 404])\n",
      "shape before densetorch.Size([1000, 450])\n"
     ]
    },
    {
     "name": "stderr",
     "output_type": "stream",
     "text": [
      " 16%|█▌        | 16/100 [00:01<00:06, 12.93it/s, loss=0.842]"
     ]
    },
    {
     "name": "stdout",
     "output_type": "stream",
     "text": [
      "input shape: torch.Size([1000, 404])\n",
      "shape before densetorch.Size([1000, 450])\n",
      "input shape: torch.Size([1000, 404])\n",
      "shape before densetorch.Size([1000, 450])\n",
      "input shape: torch.Size([1000, 404])\n",
      "shape before densetorch.Size([1000, 450])\n"
     ]
    },
    {
     "name": "stderr",
     "output_type": "stream",
     "text": [
      " 20%|██        | 20/100 [00:01<00:06, 13.01it/s, loss=0.844]"
     ]
    },
    {
     "name": "stdout",
     "output_type": "stream",
     "text": [
      "input shape: torch.Size([1000, 404])\n",
      "shape before densetorch.Size([1000, 450])\n",
      "input shape: torch.Size([1000, 404])\n",
      "shape before densetorch.Size([1000, 450])\n",
      "input shape: torch.Size([1000, 404])\n",
      "shape before densetorch.Size([1000, 450])\n"
     ]
    },
    {
     "name": "stderr",
     "output_type": "stream",
     "text": [
      " 22%|██▏       | 22/100 [00:01<00:06, 12.98it/s, loss=0.837]"
     ]
    },
    {
     "name": "stdout",
     "output_type": "stream",
     "text": [
      "input shape: torch.Size([1000, 404])\n",
      "shape before densetorch.Size([1000, 450])\n",
      "input shape: torch.Size([1000, 404])\n",
      "shape before densetorch.Size([1000, 450])\n",
      "input shape: torch.Size([1000, 404])\n",
      "shape before densetorch.Size([1000, 450])\n"
     ]
    },
    {
     "name": "stderr",
     "output_type": "stream",
     "text": [
      " 26%|██▌       | 26/100 [00:02<00:05, 12.92it/s, loss=0.837]"
     ]
    },
    {
     "name": "stdout",
     "output_type": "stream",
     "text": [
      "input shape: torch.Size([1000, 404])\n",
      "shape before densetorch.Size([1000, 450])\n",
      "input shape: torch.Size([1000, 404])\n",
      "shape before densetorch.Size([1000, 450])\n",
      "input shape: torch.Size([1000, 404])\n",
      "shape before densetorch.Size([1000, 450])\n"
     ]
    },
    {
     "name": "stderr",
     "output_type": "stream",
     "text": [
      " 28%|██▊       | 28/100 [00:02<00:05, 12.99it/s, loss=0.838]"
     ]
    },
    {
     "name": "stdout",
     "output_type": "stream",
     "text": [
      "input shape: torch.Size([1000, 404])\n",
      "shape before densetorch.Size([1000, 450])\n",
      "input shape: torch.Size([1000, 404])\n",
      "shape before densetorch.Size([1000, 450])\n",
      "input shape: torch.Size([1000, 404])\n",
      "shape before densetorch.Size([1000, 450])\n"
     ]
    },
    {
     "name": "stderr",
     "output_type": "stream",
     "text": [
      " 32%|███▏      | 32/100 [00:02<00:05, 13.09it/s, loss=0.836]"
     ]
    },
    {
     "name": "stdout",
     "output_type": "stream",
     "text": [
      "input shape: torch.Size([1000, 404])\n",
      "shape before densetorch.Size([1000, 450])\n",
      "input shape: torch.Size([1000, 404])\n",
      "shape before densetorch.Size([1000, 450])\n",
      "input shape: torch.Size([1000, 404])\n",
      "shape before densetorch.Size([1000, 450])\n"
     ]
    },
    {
     "name": "stderr",
     "output_type": "stream",
     "text": [
      " 34%|███▍      | 34/100 [00:02<00:05, 13.09it/s, loss=0.836]"
     ]
    },
    {
     "name": "stdout",
     "output_type": "stream",
     "text": [
      "input shape: torch.Size([1000, 404])\n",
      "shape before densetorch.Size([1000, 450])\n",
      "input shape: torch.Size([1000, 404])\n",
      "shape before densetorch.Size([1000, 450])\n",
      "input shape: torch.Size([1000, 404])\n",
      "shape before densetorch.Size([1000, 450])\n"
     ]
    },
    {
     "name": "stderr",
     "output_type": "stream",
     "text": [
      " 38%|███▊      | 38/100 [00:02<00:04, 12.99it/s, loss=0.834]"
     ]
    },
    {
     "name": "stdout",
     "output_type": "stream",
     "text": [
      "input shape: torch.Size([1000, 404])\n",
      "shape before densetorch.Size([1000, 450])\n",
      "input shape: torch.Size([1000, 404])\n",
      "shape before densetorch.Size([1000, 450])\n",
      "input shape: torch.Size([1000, 404])\n",
      "shape before densetorch.Size([1000, 450])\n"
     ]
    },
    {
     "name": "stderr",
     "output_type": "stream",
     "text": [
      " 40%|████      | 40/100 [00:03<00:04, 12.93it/s, loss=0.831]"
     ]
    },
    {
     "name": "stdout",
     "output_type": "stream",
     "text": [
      "input shape: torch.Size([1000, 404])\n",
      "shape before densetorch.Size([1000, 450])\n",
      "input shape: torch.Size([1000, 404])\n",
      "shape before densetorch.Size([1000, 450])\n",
      "input shape: torch.Size([1000, 404])\n",
      "shape before densetorch.Size([1000, 450])\n"
     ]
    },
    {
     "name": "stderr",
     "output_type": "stream",
     "text": [
      " 44%|████▍     | 44/100 [00:03<00:04, 13.08it/s, loss=0.831]"
     ]
    },
    {
     "name": "stdout",
     "output_type": "stream",
     "text": [
      "input shape: torch.Size([1000, 404])\n",
      "shape before densetorch.Size([1000, 450])\n",
      "input shape: torch.Size([1000, 404])\n",
      "shape before densetorch.Size([1000, 450])\n",
      "input shape: torch.Size([1000, 404])\n",
      "shape before densetorch.Size([1000, 450])\n"
     ]
    },
    {
     "name": "stderr",
     "output_type": "stream",
     "text": [
      " 46%|████▌     | 46/100 [00:03<00:04, 13.09it/s, loss=0.833]"
     ]
    },
    {
     "name": "stdout",
     "output_type": "stream",
     "text": [
      "input shape: torch.Size([1000, 404])\n",
      "shape before densetorch.Size([1000, 450])\n",
      "input shape: torch.Size([1000, 404])\n",
      "shape before densetorch.Size([1000, 450])\n",
      "input shape: torch.Size([1000, 404])\n",
      "shape before densetorch.Size([1000, 450])\n"
     ]
    },
    {
     "name": "stderr",
     "output_type": "stream",
     "text": [
      " 50%|█████     | 50/100 [00:03<00:03, 13.08it/s, loss=0.83] "
     ]
    },
    {
     "name": "stdout",
     "output_type": "stream",
     "text": [
      "input shape: torch.Size([1000, 404])\n",
      "shape before densetorch.Size([1000, 450])\n",
      "input shape: torch.Size([1000, 404])\n",
      "shape before densetorch.Size([1000, 450])\n",
      "input shape: torch.Size([1000, 404])\n",
      "shape before densetorch.Size([1000, 450])\n"
     ]
    },
    {
     "name": "stderr",
     "output_type": "stream",
     "text": [
      " 52%|█████▏    | 52/100 [00:04<00:03, 12.99it/s, loss=0.829]"
     ]
    },
    {
     "name": "stdout",
     "output_type": "stream",
     "text": [
      "input shape: torch.Size([1000, 404])\n",
      "shape before densetorch.Size([1000, 450])\n",
      "input shape: torch.Size([1000, 404])\n",
      "shape before densetorch.Size([1000, 450])\n",
      "input shape: torch.Size([1000, 404])\n",
      "shape before densetorch.Size([1000, 450])\n"
     ]
    },
    {
     "name": "stderr",
     "output_type": "stream",
     "text": [
      " 56%|█████▌    | 56/100 [00:04<00:03, 13.05it/s, loss=0.827]"
     ]
    },
    {
     "name": "stdout",
     "output_type": "stream",
     "text": [
      "input shape: torch.Size([1000, 404])\n",
      "shape before densetorch.Size([1000, 450])\n",
      "input shape: torch.Size([1000, 404])\n",
      "shape before densetorch.Size([1000, 450])\n",
      "input shape: torch.Size([1000, 404])\n",
      "shape before densetorch.Size([1000, 450])\n"
     ]
    },
    {
     "name": "stderr",
     "output_type": "stream",
     "text": [
      " 58%|█████▊    | 58/100 [00:04<00:03, 13.03it/s, loss=0.826]"
     ]
    },
    {
     "name": "stdout",
     "output_type": "stream",
     "text": [
      "input shape: torch.Size([1000, 404])\n",
      "shape before densetorch.Size([1000, 450])\n",
      "input shape: torch.Size([1000, 404])\n",
      "shape before densetorch.Size([1000, 450])\n",
      "input shape: torch.Size([1000, 404])\n",
      "shape before densetorch.Size([1000, 450])\n"
     ]
    },
    {
     "name": "stderr",
     "output_type": "stream",
     "text": [
      " 62%|██████▏   | 62/100 [00:04<00:02, 12.82it/s, loss=0.827]"
     ]
    },
    {
     "name": "stdout",
     "output_type": "stream",
     "text": [
      "input shape: torch.Size([1000, 404])\n",
      "shape before densetorch.Size([1000, 450])\n",
      "input shape: torch.Size([1000, 404])\n",
      "shape before densetorch.Size([1000, 450])\n",
      "input shape: torch.Size([1000, 404])\n",
      "shape before densetorch.Size([1000, 450])\n"
     ]
    },
    {
     "name": "stderr",
     "output_type": "stream",
     "text": [
      " 64%|██████▍   | 64/100 [00:05<00:02, 12.85it/s, loss=0.825]"
     ]
    },
    {
     "name": "stdout",
     "output_type": "stream",
     "text": [
      "input shape: torch.Size([1000, 404])\n",
      "shape before densetorch.Size([1000, 450])\n",
      "input shape: torch.Size([1000, 404])\n",
      "shape before densetorch.Size([1000, 450])\n",
      "input shape: torch.Size([1000, 404])\n",
      "shape before densetorch.Size([1000, 450])\n"
     ]
    },
    {
     "name": "stderr",
     "output_type": "stream",
     "text": [
      " 66%|██████▌   | 66/100 [00:05<00:02, 12.72it/s, loss=0.825]"
     ]
    },
    {
     "name": "stdout",
     "output_type": "stream",
     "text": [
      "input shape: torch.Size([1000, 404])\n",
      "shape before densetorch.Size([1000, 450])\n"
     ]
    },
    {
     "name": "stderr",
     "output_type": "stream",
     "text": [
      "\n"
     ]
    },
    {
     "ename": "KeyboardInterrupt",
     "evalue": "",
     "output_type": "error",
     "traceback": [
      "\u001b[0;31m---------------------------------------------------------------------------\u001b[0m",
      "\u001b[0;31mKeyboardInterrupt\u001b[0m                         Traceback (most recent call last)",
      "\u001b[0;32m/tmp/ipykernel_18166/3364925475.py\u001b[0m in \u001b[0;36m<module>\u001b[0;34m\u001b[0m\n\u001b[0;32m----> 1\u001b[0;31m \u001b[0mtrain\u001b[0m\u001b[0;34m(\u001b[0m\u001b[0;34m)\u001b[0m\u001b[0;34m\u001b[0m\u001b[0;34m\u001b[0m\u001b[0m\n\u001b[0m",
      "\u001b[0;32m/tmp/ipykernel_18166/836100100.py\u001b[0m in \u001b[0;36mtrain\u001b[0;34m()\u001b[0m\n\u001b[1;32m     26\u001b[0m         \u001b[0mloss\u001b[0m \u001b[0;34m=\u001b[0m \u001b[0;34m-\u001b[0m\u001b[0mmll\u001b[0m\u001b[0;34m(\u001b[0m\u001b[0moutput\u001b[0m\u001b[0;34m,\u001b[0m \u001b[0mtorch\u001b[0m\u001b[0;34m.\u001b[0m\u001b[0mfrom_numpy\u001b[0m\u001b[0;34m(\u001b[0m\u001b[0my_train\u001b[0m\u001b[0;34m[\u001b[0m\u001b[0;34m:\u001b[0m\u001b[0mstart_size\u001b[0m\u001b[0;34m]\u001b[0m\u001b[0;34m)\u001b[0m\u001b[0;34m.\u001b[0m\u001b[0mfloat\u001b[0m\u001b[0;34m(\u001b[0m\u001b[0;34m)\u001b[0m\u001b[0;34m.\u001b[0m\u001b[0mto\u001b[0m\u001b[0;34m(\u001b[0m\u001b[0mdevice\u001b[0m\u001b[0;34m)\u001b[0m\u001b[0;34m)\u001b[0m\u001b[0;34m\u001b[0m\u001b[0;34m\u001b[0m\u001b[0m\n\u001b[1;32m     27\u001b[0m         \u001b[0mloss\u001b[0m\u001b[0;34m.\u001b[0m\u001b[0mbackward\u001b[0m\u001b[0;34m(\u001b[0m\u001b[0;34m)\u001b[0m\u001b[0;34m\u001b[0m\u001b[0;34m\u001b[0m\u001b[0m\n\u001b[0;32m---> 28\u001b[0;31m         \u001b[0miterator\u001b[0m\u001b[0;34m.\u001b[0m\u001b[0mset_postfix\u001b[0m\u001b[0;34m(\u001b[0m\u001b[0mloss\u001b[0m\u001b[0;34m=\u001b[0m\u001b[0mloss\u001b[0m\u001b[0;34m.\u001b[0m\u001b[0mitem\u001b[0m\u001b[0;34m(\u001b[0m\u001b[0;34m)\u001b[0m\u001b[0;34m)\u001b[0m\u001b[0;34m\u001b[0m\u001b[0;34m\u001b[0m\u001b[0m\n\u001b[0m\u001b[1;32m     29\u001b[0m         \u001b[0moptimizer\u001b[0m\u001b[0;34m.\u001b[0m\u001b[0mstep\u001b[0m\u001b[0;34m(\u001b[0m\u001b[0;34m)\u001b[0m\u001b[0;34m\u001b[0m\u001b[0;34m\u001b[0m\u001b[0m\n",
      "\u001b[0;31mKeyboardInterrupt\u001b[0m: "
     ]
    }
   ],
   "source": [
    "train()"
   ]
  },
  {
   "cell_type": "code",
   "execution_count": 44,
   "id": "eed1d1d7",
   "metadata": {},
   "outputs": [
    {
     "name": "stdout",
     "output_type": "stream",
     "text": [
      "input shape: torch.Size([27513, 404])\n",
      "shape before densetorch.Size([27513, 450])\n",
      "Test MSE: 0.14424868101405325\n"
     ]
    }
   ],
   "source": [
    "model.eval()\n",
    "likelihood.eval()\n",
    "with torch.no_grad(), gpytorch.settings.use_toeplitz(False), gpytorch.settings.fast_pred_var():\n",
    "    preds = model(torch.from_numpy(X_test).reshape(-1, 404).float().to(device))\n",
    "\n",
    "print('Test MSE: {}'.format(torch.mean((preds.mean.cpu() - y_test) ** 2)))"
   ]
  }
 ],
 "metadata": {
  "environment": {
   "kernel": "python3",
   "name": "pytorch-gpu.1-12.m100",
   "type": "gcloud",
   "uri": "gcr.io/deeplearning-platform-release/pytorch-gpu.1-12:m100"
  },
  "kernelspec": {
   "display_name": "Python 3.7.12 ('base')",
   "language": "python",
   "name": "python3"
  },
  "language_info": {
   "codemirror_mode": {
    "name": "ipython",
    "version": 3
   },
   "file_extension": ".py",
   "mimetype": "text/x-python",
   "name": "python",
   "nbconvert_exporter": "python",
   "pygments_lexer": "ipython3",
   "version": "3.7.12"
  },
  "vscode": {
   "interpreter": {
    "hash": "d4d1e4263499bec80672ea0156c357c1ee493ec2b1c70f0acce89fc37c4a6abe"
   }
  }
 },
 "nbformat": 4,
 "nbformat_minor": 5
}
