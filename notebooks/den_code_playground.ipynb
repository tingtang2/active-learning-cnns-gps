{
 "cells": [
  {
   "cell_type": "markdown",
   "metadata": {},
   "source": [
    "## Play with loading in weights to a keras model and then exporting to a PyTorch model"
   ]
  },
  {
   "cell_type": "code",
   "execution_count": 1,
   "metadata": {},
   "outputs": [],
   "source": [
    "import sys\n",
    "# point path to genesis repo\n",
    "sys.path.insert(\n",
    "    0,\n",
    "    '/gpfs/commons/home/tchen/al_project/genesis/analysis/splicing'\n",
    ")"
   ]
  },
  {
   "cell_type": "code",
   "execution_count": 2,
   "metadata": {},
   "outputs": [
    {
     "name": "stderr",
     "output_type": "stream",
     "text": [
      "Using TensorFlow backend.\n"
     ]
    }
   ],
   "source": [
    "from definitions.generator.splirent_deconv_conv_generator_concat import load_generator_network\n",
    "from genesis.generator import build_generator, st_sampled_softmax, st_hardmax_softmax\n",
    "from pathlib import Path\n",
    "from keras.models import load_model\n",
    "from keras import backend as K"
   ]
  },
  {
   "cell_type": "code",
   "execution_count": 3,
   "metadata": {},
   "outputs": [],
   "source": [
    "model_name = 'genesis_splicing_cnn_target_isoform_00_pwm_and_multisample_hek_only_random_regions_50_epochs_harderentropy_generator.h5'\n",
    "model_save_dir = '/gpfs/commons/groups/knowles_lab/ting/DEN_splicing_pretrained_models/'\n",
    "\n",
    "full_path = model_save_dir + model_name"
   ]
  },
  {
   "cell_type": "code",
   "execution_count": 4,
   "metadata": {},
   "outputs": [
    {
     "name": "stdout",
     "output_type": "stream",
     "text": [
      "WARNING:tensorflow:From /gpfs/commons/home/tchen/al_project/genesis/original_den_env/lib/python3.7/site-packages/keras/backend/tensorflow_backend.py:517: The name tf.placeholder is deprecated. Please use tf.compat.v1.placeholder instead.\n",
      "\n"
     ]
    },
    {
     "name": "stdout",
     "output_type": "stream",
     "text": [
      "WARNING:tensorflow:From /gpfs/commons/home/tchen/al_project/genesis/original_den_env/lib/python3.7/site-packages/keras/backend/tensorflow_backend.py:4138: The name tf.random_uniform is deprecated. Please use tf.random.uniform instead.\n",
      "\n",
      "WARNING:tensorflow:From /gpfs/commons/home/tchen/al_project/genesis/original_den_env/lib/python3.7/site-packages/keras/backend/tensorflow_backend.py:4185: The name tf.truncated_normal is deprecated. Please use tf.random.truncated_normal instead.\n",
      "\n",
      "WARNING:tensorflow:From /gpfs/commons/home/tchen/al_project/genesis/original_den_env/lib/python3.7/site-packages/keras/backend/tensorflow_backend.py:245: The name tf.get_default_graph is deprecated. Please use tf.compat.v1.get_default_graph instead.\n",
      "\n",
      "WARNING:tensorflow:From /gpfs/commons/home/tchen/al_project/genesis/original_den_env/lib/python3.7/site-packages/keras/backend/tensorflow_backend.py:174: The name tf.get_default_session is deprecated. Please use tf.compat.v1.get_default_session instead.\n",
      "\n",
      "WARNING:tensorflow:From /gpfs/commons/home/tchen/al_project/genesis/original_den_env/lib/python3.7/site-packages/keras/backend/tensorflow_backend.py:181: The name tf.ConfigProto is deprecated. Please use tf.compat.v1.ConfigProto instead.\n",
      "\n",
      "WARNING:tensorflow:From /gpfs/commons/home/tchen/al_project/genesis/original_den_env/lib/python3.7/site-packages/keras/backend/tensorflow_backend.py:186: The name tf.Session is deprecated. Please use tf.compat.v1.Session instead.\n",
      "\n",
      "WARNING:tensorflow:From /gpfs/commons/home/tchen/al_project/genesis/original_den_env/lib/python3.7/site-packages/keras/backend/tensorflow_backend.py:190: The name tf.global_variables is deprecated. Please use tf.compat.v1.global_variables instead.\n",
      "\n",
      "WARNING:tensorflow:From /gpfs/commons/home/tchen/al_project/genesis/original_den_env/lib/python3.7/site-packages/keras/backend/tensorflow_backend.py:199: The name tf.is_variable_initialized is deprecated. Please use tf.compat.v1.is_variable_initialized instead.\n",
      "\n",
      "WARNING:tensorflow:From /gpfs/commons/home/tchen/al_project/genesis/original_den_env/lib/python3.7/site-packages/keras/backend/tensorflow_backend.py:206: The name tf.variables_initializer is deprecated. Please use tf.compat.v1.variables_initializer instead.\n",
      "\n",
      "WARNING:tensorflow:From /gpfs/commons/home/tchen/al_project/genesis/original_den_env/lib/python3.7/site-packages/keras/backend/tensorflow_backend.py:1834: The name tf.nn.fused_batch_norm is deprecated. Please use tf.compat.v1.nn.fused_batch_norm instead.\n",
      "\n",
      "WARNING:tensorflow:From /gpfs/commons/home/tchen/al_project/genesis/original_den_env/lib/python3.7/site-packages/keras/backend/tensorflow_backend.py:133: The name tf.placeholder_with_default is deprecated. Please use tf.compat.v1.placeholder_with_default instead.\n",
      "\n"
     ]
    },
    {
     "name": "stderr",
     "output_type": "stream",
     "text": [
      "2024-01-23 16:15:06.455753: I tensorflow/core/platform/cpu_feature_guard.cc:142] Your CPU supports instructions that this TensorFlow binary was not compiled to use: AVX2 FMA\n",
      "2024-01-23 16:15:06.463251: I tensorflow/core/platform/profile_utils/cpu_utils.cc:94] CPU Frequency: 2593915000 Hz\n",
      "2024-01-23 16:15:06.463720: I tensorflow/compiler/xla/service/service.cc:168] XLA service 0x5646965761d0 initialized for platform Host (this does not guarantee that XLA will be used). Devices:\n",
      "2024-01-23 16:15:06.463747: I tensorflow/compiler/xla/service/service.cc:176]   StreamExecutor device (0): Host, Default Version\n"
     ]
    },
    {
     "name": "stdout",
     "output_type": "stream",
     "text": [
      "WARNING:tensorflow:From /gpfs/commons/home/tchen/al_project/genesis/original_den_env/lib/python3.7/site-packages/genesis-0.1-py3.7.egg/genesis/generator/genesis_generator.py:26: multinomial (from tensorflow.python.ops.random_ops) is deprecated and will be removed in a future version.\n",
      "Instructions for updating:\n",
      "Use `tf.random.categorical` instead.\n",
      "WARNING:tensorflow:From /gpfs/commons/home/tchen/al_project/genesis/original_den_env/lib/python3.7/site-packages/genesis-0.1-py3.7.egg/genesis/generator/genesis_generator.py:28: The name tf.ceil is deprecated. Please use tf.math.ceil instead.\n",
      "\n"
     ]
    }
   ],
   "source": [
    "generator_model = load_model(filepath=str(full_path), custom_objects={'K': K, 'st_sampled_softmax': st_sampled_softmax, 'st_hardmax_softmax': st_hardmax_softmax}, compile=False)"
   ]
  },
  {
   "cell_type": "code",
   "execution_count": 8,
   "metadata": {},
   "outputs": [
    {
     "name": "stdout",
     "output_type": "stream",
     "text": [
      "__________________________________________________________________________________________________\n",
      "Layer (type)                    Output Shape         Param #     Connected to                     \n",
      "==================================================================================================\n",
      "sequence_class_seed (InputLayer (32, 1)              0                                            \n",
      "__________________________________________________________________________________________________\n",
      "lambda_rand_sequence_class (Lam (32, 1)              0           sequence_class_seed[0][0]        \n",
      "__________________________________________________________________________________________________\n",
      "noise_input_1 (InputLayer)      (32, 100)            0                                            \n",
      "__________________________________________________________________________________________________\n",
      "noise_input_2 (InputLayer)      (32, 100)            0                                            \n",
      "__________________________________________________________________________________________________\n",
      "lambda_rand_input_1 (Lambda)    (32, 100)            0           noise_input_1[0][0]              \n",
      "__________________________________________________________________________________________________\n",
      "lambda_1 (Lambda)               (32, 1)              0           lambda_rand_sequence_class[0][0] \n",
      "__________________________________________________________________________________________________\n",
      "lambda_rand_input_2 (Lambda)    (32, 100)            0           noise_input_2[0][0]              \n",
      "__________________________________________________________________________________________________\n",
      "concatenate_1 (Concatenate)     (32, 101)            0           lambda_rand_input_1[0][0]        \n",
      "                                                                 lambda_1[0][0]                   \n",
      "__________________________________________________________________________________________________\n",
      "concatenate_2 (Concatenate)     (32, 101)            0           lambda_rand_input_2[0][0]        \n",
      "                                                                 lambda_1[0][0]                   \n",
      "__________________________________________________________________________________________________\n",
      "policy_dense_1 (Dense)          (32, 3456)           352512      concatenate_1[0][0]              \n",
      "                                                                 concatenate_2[0][0]              \n",
      "__________________________________________________________________________________________________\n",
      "reshape_1 (Reshape)             (32, 9, 1, 384)      0           policy_dense_1[0][0]             \n",
      "                                                                 policy_dense_1[1][0]             \n",
      "__________________________________________________________________________________________________\n",
      "policy_deconv_0 (Conv2DTranspos (32, 23, 1, 256)     688384      reshape_1[0][0]                  \n",
      "                                                                 reshape_1[1][0]                  \n",
      "__________________________________________________________________________________________________\n",
      "policy_batch_norm_0 (BatchNorma (32, 23, 1, 256)     1024        policy_deconv_0[0][0]            \n",
      "                                                                 policy_deconv_0[1][0]            \n",
      "__________________________________________________________________________________________________\n",
      "lambda_2 (Lambda)               (32, 23, 1, 256)     0           policy_batch_norm_0[0][0]        \n",
      "                                                                 policy_batch_norm_0[1][0]        \n",
      "__________________________________________________________________________________________________\n",
      "policy_deconv_1 (Conv2DTranspos (32, 52, 1, 192)     393408      lambda_2[0][0]                   \n",
      "                                                                 lambda_2[1][0]                   \n",
      "__________________________________________________________________________________________________\n",
      "policy_batch_norm_1 (BatchNorma (32, 52, 1, 192)     768         policy_deconv_1[0][0]            \n",
      "                                                                 policy_deconv_1[1][0]            \n",
      "__________________________________________________________________________________________________\n",
      "lambda_3 (Lambda)               (32, 52, 1, 192)     0           policy_batch_norm_1[0][0]        \n",
      "                                                                 policy_batch_norm_1[1][0]        \n",
      "__________________________________________________________________________________________________\n",
      "policy_deconv_2 (Conv2DTranspos (32, 109, 1, 128)    172160      lambda_3[0][0]                   \n",
      "                                                                 lambda_3[1][0]                   \n",
      "__________________________________________________________________________________________________\n",
      "policy_batch_norm_2 (BatchNorma (32, 109, 1, 128)    512         policy_deconv_2[0][0]            \n",
      "                                                                 policy_deconv_2[1][0]            \n",
      "__________________________________________________________________________________________________\n",
      "lambda_4 (Lambda)               (32, 109, 1, 128)    0           policy_batch_norm_2[0][0]        \n",
      "                                                                 policy_batch_norm_2[1][0]        \n",
      "__________________________________________________________________________________________________\n",
      "policy_conv_3 (Conv2D)          (32, 109, 1, 128)    131200      lambda_4[0][0]                   \n",
      "                                                                 lambda_4[1][0]                   \n",
      "__________________________________________________________________________________________________\n",
      "policy_batch_norm_3 (BatchNorma (32, 109, 1, 128)    512         policy_conv_3[0][0]              \n",
      "                                                                 policy_conv_3[1][0]              \n",
      "__________________________________________________________________________________________________\n",
      "lambda_5 (Lambda)               (32, 109, 1, 128)    0           policy_batch_norm_3[0][0]        \n",
      "                                                                 policy_batch_norm_3[1][0]        \n",
      "__________________________________________________________________________________________________\n",
      "policy_conv_4 (Conv2D)          (32, 109, 1, 64)     65600       lambda_5[0][0]                   \n",
      "                                                                 lambda_5[1][0]                   \n",
      "__________________________________________________________________________________________________\n",
      "policy_batch_norm_4 (BatchNorma (32, 109, 1, 64)     256         policy_conv_4[0][0]              \n",
      "                                                                 policy_conv_4[1][0]              \n",
      "__________________________________________________________________________________________________\n",
      "lambda_6 (Lambda)               (32, 109, 1, 64)     0           policy_batch_norm_4[0][0]        \n",
      "                                                                 policy_batch_norm_4[1][0]        \n",
      "__________________________________________________________________________________________________\n",
      "policy_conv_5 (Conv2D)          (32, 109, 1, 4)      2052        lambda_6[0][0]                   \n",
      "                                                                 lambda_6[1][0]                   \n",
      "__________________________________________________________________________________________________\n",
      "template_dense (Embedding)      (32, 1, 436)         436         lambda_rand_sequence_class[0][0] \n",
      "__________________________________________________________________________________________________\n",
      "mask_dense (Embedding)          (32, 1, 436)         436         lambda_rand_sequence_class[0][0] \n",
      "__________________________________________________________________________________________________\n",
      "reshape_2 (Reshape)             (32, 109, 4, 1)      0           policy_conv_5[0][0]              \n",
      "__________________________________________________________________________________________________\n",
      "reshape_4 (Reshape)             (32, 109, 4, 1)      0           template_dense[0][0]             \n",
      "                                                                 mask_dense[0][0]                 \n",
      "__________________________________________________________________________________________________\n",
      "reshape_3 (Reshape)             (32, 109, 4, 1)      0           policy_conv_5[1][0]              \n",
      "__________________________________________________________________________________________________\n",
      "masking_layer (Lambda)          (32, 109, 4, 1)      0           reshape_2[0][0]                  \n",
      "                                                                 reshape_4[0][0]                  \n",
      "                                                                 reshape_4[1][0]                  \n",
      "                                                                 reshape_3[0][0]                  \n",
      "                                                                 reshape_4[0][0]                  \n",
      "                                                                 reshape_4[1][0]                  \n",
      "__________________________________________________________________________________________________\n",
      "lambda_7 (Lambda)               (320, 109, 4, 1)     0           masking_layer[0][0]              \n",
      "__________________________________________________________________________________________________\n",
      "lambda_8 (Lambda)               (320, 109, 4, 1)     0           masking_layer[1][0]              \n",
      "__________________________________________________________________________________________________\n",
      "pwm_sampler_1 (Lambda)          (320, 109, 4, 1)     0           lambda_7[0][0]                   \n",
      "__________________________________________________________________________________________________\n",
      "pwm_sampler_2 (Lambda)          (320, 109, 4, 1)     0           lambda_8[0][0]                   \n",
      "__________________________________________________________________________________________________\n",
      "lambda_9 (Lambda)               (320, 109, 4, 1)     0           reshape_4[1][0]                  \n",
      "__________________________________________________________________________________________________\n",
      "pwm_1 (Softmax)                 (32, 109, 4, 1)      0           masking_layer[0][0]              \n",
      "__________________________________________________________________________________________________\n",
      "pwm_2 (Softmax)                 (32, 109, 4, 1)      0           masking_layer[1][0]              \n",
      "__________________________________________________________________________________________________\n",
      "lambda_10 (Lambda)              (32, 10, 109, 4, 1)  0           pwm_sampler_1[0][0]              \n",
      "__________________________________________________________________________________________________\n",
      "lambda_11 (Lambda)              (32, 10, 109, 4, 1)  0           pwm_sampler_2[0][0]              \n",
      "__________________________________________________________________________________________________\n",
      "lambda_12 (Lambda)              (32, 10, 109, 4, 1)  0           lambda_9[0][0]                   \n",
      "==================================================================================================\n",
      "Total params: 1,809,260\n",
      "Trainable params: 1,806,852\n",
      "Non-trainable params: 2,408\n",
      "__________________________________________________________________________________________________\n"
     ]
    }
   ],
   "source": [
    "generator_model.summary()"
   ]
  },
  {
   "cell_type": "markdown",
   "metadata": {},
   "source": [
    "Got the weights!"
   ]
  },
  {
   "cell_type": "code",
   "execution_count": 11,
   "metadata": {},
   "outputs": [
    {
     "name": "stdout",
     "output_type": "stream",
     "text": [
      "(101, 3456)\n",
      "(3456,)\n",
      "(7, 1, 256, 384)\n",
      "(256,)\n",
      "(256,)\n",
      "(256,)\n",
      "(256,)\n",
      "(256,)\n",
      "(8, 1, 192, 256)\n",
      "(192,)\n",
      "(192,)\n",
      "(192,)\n",
      "(192,)\n",
      "(192,)\n",
      "(7, 1, 128, 192)\n",
      "(128,)\n",
      "(128,)\n",
      "(128,)\n",
      "(128,)\n",
      "(128,)\n",
      "(8, 1, 128, 128)\n",
      "(128,)\n",
      "(128,)\n",
      "(128,)\n",
      "(128,)\n",
      "(128,)\n",
      "(8, 1, 128, 64)\n",
      "(64,)\n",
      "(64,)\n",
      "(64,)\n",
      "(64,)\n",
      "(64,)\n",
      "(8, 1, 64, 4)\n",
      "(4,)\n",
      "(1, 436)\n",
      "(1, 436)\n"
     ]
    }
   ],
   "source": [
    "for weight in generator_model.get_weights():\n",
    "    print(weight.shape)"
   ]
  }
 ],
 "metadata": {
  "kernelspec": {
   "display_name": "project-env",
   "language": "python",
   "name": "python3"
  },
  "language_info": {
   "codemirror_mode": {
    "name": "ipython",
    "version": 3
   },
   "file_extension": ".py",
   "mimetype": "text/x-python",
   "name": "python",
   "nbconvert_exporter": "python",
   "pygments_lexer": "ipython3",
   "version": "3.7.3"
  }
 },
 "nbformat": 4,
 "nbformat_minor": 2
}
